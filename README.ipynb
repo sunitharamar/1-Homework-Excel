{
 "cells": [
  {
   "cell_type": "markdown",
   "metadata": {},
   "source": [
    "# Unit 1 | Assignment - KickStart My Chart"
   ]
  },
  {
   "cell_type": "markdown",
   "metadata": {},
   "source": [
    "## Background"
   ]
  },
  {
   "cell_type": "markdown",
   "metadata": {},
   "source": [
    "Over two billion dollars have been raised using the massively successful crowdfunding service, Kickstarter, but not every project has found success. Of the over 300,000 projects aunched on Kickstarter, only a third have made it through the funding process with a positive outcome.\n",
    "\n",
    "Since getting funded on Kickstarter requires meeting or exceeding the project's initial goal, many organizations spend months looking through past projects in an attempt to discover some trick to finding success. For this week's homework, you will organize and analyze a database of four thousand past projects in order to uncover any hidden trends.\n",
    "\n",
    "\n",
    "## Instructions"
   ]
  },
  {
   "cell_type": "markdown",
   "metadata": {},
   "source": [
    "![9title](img/FullTable.PNG)"
   ]
  },
  {
   "cell_type": "markdown",
   "metadata": {},
   "source": [
    "* Using the Excel table provided, you will be modifying and analyzing the data of four thousand past Kickstarter projects as you attempt to uncover some of the market trends.\n",
    "\n",
    "* Use conditional formatting to fill each cell in the state column with a different color (here \"state\" refers to the final state of the campaign, or the outcome), depending on whether the associated campaign was \"successful,\" \"failed,\" \"cancelled,\" or is currently \"live\".\n",
    "\n",
    "* Create a new column at column O called percent funded that uses a formula to uncover how much money a campaign made towards reaching its initial goal.\n",
    "\n",
    "\n",
    "    * Use conditional formatting to fill each cell in the percent funded column using a three-color scale. The scale should start at 0 and be a dark shade of red, transitioning to green at 100, and then moving towards blue at 200.\n",
    "\n",
    "\n",
    "* Create a new column at column P called average donation that uses a formula to uncover how much each backer for the project paid on average.\n",
    "\n",
    "* Create two new columns, one called category at Q and another called sub-category at R, which use formulas to split the Category and Sub-Category column into two parts."
   ]
  },
  {
   "cell_type": "markdown",
   "metadata": {},
   "source": [
    "![9title](img/CategoryStats.PNG) "
   ]
  },
  {
   "cell_type": "markdown",
   "metadata": {},
   "source": [
    "* Create a new sheet with a pivot table that will analyze your initial worksheet to count how many campaigns were \"successful,\" \"failed,\" \"cancelled,\" or are currently \"live\" per category.\n",
    "\n",
    "\n",
    "    * Create a stacked column pivot chart that can be filtered by country based on the table you have created."
   ]
  },
  {
   "cell_type": "markdown",
   "metadata": {},
   "source": [
    "![9title](img/SubcategoryStats.PNG) "
   ]
  },
  {
   "cell_type": "markdown",
   "metadata": {},
   "source": [
    "* Create a new sheet with a pivot table that will analyze your initial sheet to count how many campaigns were \"successful,\" \"failed,\" \"cancelled,\" or are currently \"live\" per sub-category.\n",
    "\n",
    "\n",
    "     * Create a stacked column pivot chart that can be filtered by country and sub-category based on the table you have created.\n",
    "     * The dates stored within the deadline and launched_at columns are using unix timestamps. Fortunately for us, there is a formula out there that can be used to convert these timestamps into a normal date.\n",
    "\n",
    "\n",
    "* Create a new column named Date Created Conversion that will use this formula to convert the data contained within launched_at into Excel's Date format\n",
    "\n",
    "* Create a new column named Date Ended Conversion that will use this formula to convert the data contained within deadline into Excel's Date format"
   ]
  },
  {
   "cell_type": "markdown",
   "metadata": {},
   "source": [
    "![9title](img/LaunchDateOutcomes.PNG) "
   ]
  },
  {
   "cell_type": "markdown",
   "metadata": {},
   "source": [
    "* Create a new sheet with a pivot table with a column of state, rows of Date Created Conversion, values based on the count of state, and filters based on category and Years.\n",
    "\n",
    "* Now create a pivot chart line graph that visualizes this new table.\n",
    "\n",
    "\n",
    "    * Create a report in Microsoft Word and answer the following questions...\n",
    "\n",
    "\n",
    "\n",
    "\n",
    "\n",
    "1. What are three conclusions we can make about Kickstarter campaigns given the provided data?\n",
    "2. What are some of the limitations of this dataset?\n",
    "3. What are some other possible tables/graphs that we could create?\n"
   ]
  },
  {
   "cell_type": "markdown",
   "metadata": {},
   "source": [
    "# Bonus"
   ]
  },
  {
   "cell_type": "markdown",
   "metadata": {},
   "source": [
    "* Create a new sheet with 8 columns: Goal, Number Successful, Number Failed, Number Canceled, Total Projects, Percentage Successful, Percentage Failed, and Percentage Canceled\n",
    "\n",
    "\n",
    "    * In the goal column, create twelve rows with the following headers...\n",
    "        Less Than 1000\n",
    "        1000 to 4999\n",
    "        5000 to 9999\n",
    "        10000 to 14999\n",
    "        15000 to 19999\n",
    "        20000 to 24999\n",
    "        25000 to 29999\n",
    "        30000 to 34999\n",
    "        35000 to 39999\n",
    "        40000 to 44999\n",
    "        45000 to 49999\n",
    "        Greater than or equal to 50000"
   ]
  },
  {
   "cell_type": "markdown",
   "metadata": {},
   "source": [
    "![9title](img/GoalOutcomes.PNG) "
   ]
  },
  {
   "cell_type": "markdown",
   "metadata": {},
   "source": [
    "* Using the COUNTIFS() formula, count how many successful, failed, and canceled projects were created with goals within those ranges listed above. Populate the Number Successful, Number Failed, and Number Canceled columns with this data.\n",
    "* Add up each of the values in the Number Successful, Number Failed, and Number Canceled columns to populate the Total Projects column. Then, using a mathematic formulae, find the percentage of projects which were successful, failed, or were canceled per goal range.\n",
    "* Create a line chart which graphs the relationship between a goal's amount and its chances at success, failure, or cancellation."
   ]
  },
  {
   "cell_type": "code",
   "execution_count": null,
   "metadata": {
    "collapsed": true
   },
   "outputs": [],
   "source": []
  },
  {
   "cell_type": "code",
   "execution_count": null,
   "metadata": {
    "collapsed": true
   },
   "outputs": [],
   "source": []
  }
 ],
 "metadata": {
  "kernelspec": {
   "display_name": "Python 3",
   "language": "python",
   "name": "python3"
  },
  "language_info": {
   "codemirror_mode": {
    "name": "ipython",
    "version": 3
   },
   "file_extension": ".py",
   "mimetype": "text/x-python",
   "name": "python",
   "nbconvert_exporter": "python",
   "pygments_lexer": "ipython3",
   "version": "3.6.3"
  }
 },
 "nbformat": 4,
 "nbformat_minor": 2
}
